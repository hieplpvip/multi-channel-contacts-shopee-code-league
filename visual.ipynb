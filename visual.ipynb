{
 "cells": [
  {
   "cell_type": "code",
   "execution_count": 1,
   "metadata": {},
   "outputs": [],
   "source": [
    "import pandas as pd"
   ]
  },
  {
   "cell_type": "code",
   "execution_count": 2,
   "metadata": {},
   "outputs": [],
   "source": [
    "df = pd.read_json(\"data/contacts.json\")"
   ]
  },
  {
   "cell_type": "code",
   "execution_count": 3,
   "metadata": {},
   "outputs": [
    {
     "data": {
      "text/html": [
       "<div>\n",
       "<style scoped>\n",
       "    .dataframe tbody tr th:only-of-type {\n",
       "        vertical-align: middle;\n",
       "    }\n",
       "\n",
       "    .dataframe tbody tr th {\n",
       "        vertical-align: top;\n",
       "    }\n",
       "\n",
       "    .dataframe thead th {\n",
       "        text-align: right;\n",
       "    }\n",
       "</style>\n",
       "<table border=\"1\" class=\"dataframe\">\n",
       "  <thead>\n",
       "    <tr style=\"text-align: right;\">\n",
       "      <th></th>\n",
       "      <th>Id</th>\n",
       "      <th>Email</th>\n",
       "      <th>Phone</th>\n",
       "      <th>Contacts</th>\n",
       "      <th>OrderId</th>\n",
       "    </tr>\n",
       "  </thead>\n",
       "  <tbody>\n",
       "    <tr>\n",
       "      <th>0</th>\n",
       "      <td>0</td>\n",
       "      <td>gkzAbIy@qq.com</td>\n",
       "      <td></td>\n",
       "      <td>1</td>\n",
       "      <td></td>\n",
       "    </tr>\n",
       "    <tr>\n",
       "      <th>1</th>\n",
       "      <td>1</td>\n",
       "      <td></td>\n",
       "      <td>329442681752</td>\n",
       "      <td>4</td>\n",
       "      <td>vDDJJcxfLtSfkooPhbYnJdxov</td>\n",
       "    </tr>\n",
       "    <tr>\n",
       "      <th>2</th>\n",
       "      <td>2</td>\n",
       "      <td></td>\n",
       "      <td>9125983679</td>\n",
       "      <td>0</td>\n",
       "      <td></td>\n",
       "    </tr>\n",
       "    <tr>\n",
       "      <th>3</th>\n",
       "      <td>3</td>\n",
       "      <td>mdllpYmE@gmail.com</td>\n",
       "      <td></td>\n",
       "      <td>0</td>\n",
       "      <td>bHquEnCbbsGLqllwryxPsNOxa</td>\n",
       "    </tr>\n",
       "    <tr>\n",
       "      <th>4</th>\n",
       "      <td>4</td>\n",
       "      <td></td>\n",
       "      <td>300364407</td>\n",
       "      <td>2</td>\n",
       "      <td></td>\n",
       "    </tr>\n",
       "    <tr>\n",
       "      <th>...</th>\n",
       "      <td>...</td>\n",
       "      <td>...</td>\n",
       "      <td>...</td>\n",
       "      <td>...</td>\n",
       "      <td>...</td>\n",
       "    </tr>\n",
       "    <tr>\n",
       "      <th>499995</th>\n",
       "      <td>499995</td>\n",
       "      <td></td>\n",
       "      <td>10072395382</td>\n",
       "      <td>2</td>\n",
       "      <td>whJlUOGNqjxCRzmIRdURQvlNv</td>\n",
       "    </tr>\n",
       "    <tr>\n",
       "      <th>499996</th>\n",
       "      <td>499996</td>\n",
       "      <td></td>\n",
       "      <td>571709661031</td>\n",
       "      <td>4</td>\n",
       "      <td>JqIXOONvrwvJxZqNxCYHqnrKS</td>\n",
       "    </tr>\n",
       "    <tr>\n",
       "      <th>499997</th>\n",
       "      <td>499997</td>\n",
       "      <td></td>\n",
       "      <td>4541459979</td>\n",
       "      <td>2</td>\n",
       "      <td>beXCZSzcHaBwAYoDcpQqjuAFO</td>\n",
       "    </tr>\n",
       "    <tr>\n",
       "      <th>499998</th>\n",
       "      <td>499998</td>\n",
       "      <td>RzSDsyH@hotmail.com</td>\n",
       "      <td>98947185431</td>\n",
       "      <td>1</td>\n",
       "      <td>ehjeFACGiwrERQxbziMxwOWku</td>\n",
       "    </tr>\n",
       "    <tr>\n",
       "      <th>499999</th>\n",
       "      <td>499999</td>\n",
       "      <td></td>\n",
       "      <td>880053388839</td>\n",
       "      <td>0</td>\n",
       "      <td>JibSBRgzYdfzkzbTuGUXrcvDX</td>\n",
       "    </tr>\n",
       "  </tbody>\n",
       "</table>\n",
       "<p>500000 rows × 5 columns</p>\n",
       "</div>"
      ],
      "text/plain": [
       "            Id                Email         Phone  Contacts  \\\n",
       "0            0       gkzAbIy@qq.com                       1   \n",
       "1            1                       329442681752         4   \n",
       "2            2                         9125983679         0   \n",
       "3            3   mdllpYmE@gmail.com                       0   \n",
       "4            4                          300364407         2   \n",
       "...        ...                  ...           ...       ...   \n",
       "499995  499995                        10072395382         2   \n",
       "499996  499996                       571709661031         4   \n",
       "499997  499997                         4541459979         2   \n",
       "499998  499998  RzSDsyH@hotmail.com   98947185431         1   \n",
       "499999  499999                       880053388839         0   \n",
       "\n",
       "                          OrderId  \n",
       "0                                  \n",
       "1       vDDJJcxfLtSfkooPhbYnJdxov  \n",
       "2                                  \n",
       "3       bHquEnCbbsGLqllwryxPsNOxa  \n",
       "4                                  \n",
       "...                           ...  \n",
       "499995  whJlUOGNqjxCRzmIRdURQvlNv  \n",
       "499996  JqIXOONvrwvJxZqNxCYHqnrKS  \n",
       "499997  beXCZSzcHaBwAYoDcpQqjuAFO  \n",
       "499998  ehjeFACGiwrERQxbziMxwOWku  \n",
       "499999  JibSBRgzYdfzkzbTuGUXrcvDX  \n",
       "\n",
       "[500000 rows x 5 columns]"
      ]
     },
     "execution_count": 3,
     "metadata": {},
     "output_type": "execute_result"
    }
   ],
   "source": [
    "df"
   ]
  },
  {
   "cell_type": "code",
   "execution_count": 4,
   "metadata": {},
   "outputs": [
    {
     "data": {
      "text/plain": [
       "Id           int64\n",
       "Email       object\n",
       "Phone       object\n",
       "Contacts     int64\n",
       "OrderId     object\n",
       "dtype: object"
      ]
     },
     "execution_count": 4,
     "metadata": {},
     "output_type": "execute_result"
    }
   ],
   "source": [
    "df.dtypes"
   ]
  },
  {
   "cell_type": "code",
   "execution_count": 5,
   "metadata": {},
   "outputs": [
    {
     "data": {
      "text/plain": [
       "Email\n",
       "                                    [1, 2, 4, 5, 10, 14, 15, 16, 25, 26, 32, 34, 3...\n",
       "AAAQbNfGbLAeOvw@hotmail.com                                          [112387, 470075]\n",
       "AAAgyKTteOjasN@qq.com                                                        [338154]\n",
       "AABZmKeEldvO@gmail.com                                                       [426495]\n",
       "AABneiGcqcz@qq.com                                                            [37868]\n",
       "                                                          ...                        \n",
       "zzyYjbPWM@hotmail.com                                                [143089, 338473]\n",
       "zzyacSRLb@gmail.com                                                          [425119]\n",
       "zzylmjkoqfCkTOxi@hotmail.com                                                 [146556]\n",
       "zzyvKfCcQWPJdShGoItP@hotmail.com                                     [381064, 458030]\n",
       "zzyvegdhAJTFNDRQhMS@hotmail.com                                              [232950]\n",
       "Name: Id, Length: 249157, dtype: object"
      ]
     },
     "execution_count": 5,
     "metadata": {},
     "output_type": "execute_result"
    }
   ],
   "source": [
    "df.groupby('Email')['Id'].apply(list)"
   ]
  },
  {
   "cell_type": "code",
   "execution_count": 6,
   "metadata": {},
   "outputs": [
    {
     "data": {
      "text/plain": [
       "Phone\n",
       "                [0, 3, 6, 7, 9, 11, 12, 18, 19, 20, 21, 23, 24...\n",
       "000002957                                                [318092]\n",
       "00000837565                                              [411745]\n",
       "00001018140                                              [333273]\n",
       "0000109887                                               [170421]\n",
       "                                      ...                        \n",
       "999972302                                                [326065]\n",
       "999987880646                                              [37583]\n",
       "99999153118                                              [179194]\n",
       "9999969553                                       [323366, 483731]\n",
       "999997713                                                [283756]\n",
       "Name: Id, Length: 190678, dtype: object"
      ]
     },
     "execution_count": 6,
     "metadata": {},
     "output_type": "execute_result"
    }
   ],
   "source": [
    "df.groupby('Phone')['Id'].apply(list)"
   ]
  },
  {
   "cell_type": "code",
   "execution_count": 7,
   "metadata": {},
   "outputs": [
    {
     "data": {
      "text/plain": [
       "OrderId\n",
       "                             [0, 2, 4, 5, 6, 8, 11, 12, 14, 15, 16, 20, 25,...\n",
       "AADcJzTiOYaerdvPPIpHTYWFg                                             [445646]\n",
       "AAEDFOpdyZxsvmPcPgmwiELFs                                             [143711]\n",
       "AAFgjEiKBoQQXfhywaKwGiMlF                                             [494384]\n",
       "AAGNMeqoqZVLQYPeKQzxFXjGQ                                             [442033]\n",
       "                                                   ...                        \n",
       "zzuRehsZjVaspgpsRtVgaJCul                                             [121686]\n",
       "zzvXLpaILosxjQVAfehImxyqM                                             [123567]\n",
       "zzwYYYbmHxGAlqbtuVzIIVQVl                                             [157905]\n",
       "zzxguiahceHZcBcyYDPGqfVsA                                             [448818]\n",
       "zzyCSPABaRqpWOAiPLVlFWtoz                                             [185275]\n",
       "Name: Id, Length: 189303, dtype: object"
      ]
     },
     "execution_count": 7,
     "metadata": {},
     "output_type": "execute_result"
    }
   ],
   "source": [
    "df.groupby('OrderId')['Id'].apply(list)"
   ]
  }
 ],
 "metadata": {
  "kernelspec": {
   "display_name": "Python 3",
   "language": "python",
   "name": "python3"
  },
  "language_info": {
   "codemirror_mode": {
    "name": "ipython",
    "version": 3
   },
   "file_extension": ".py",
   "mimetype": "text/x-python",
   "name": "python",
   "nbconvert_exporter": "python",
   "pygments_lexer": "ipython3",
   "version": "3.8.6"
  }
 },
 "nbformat": 4,
 "nbformat_minor": 4
}
